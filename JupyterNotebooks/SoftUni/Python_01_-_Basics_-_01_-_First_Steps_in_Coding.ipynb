{
 "cells": [
  {
   "cell_type": "markdown",
   "id": "749a1dad",
   "metadata": {},
   "source": [
    "# Python Basics"
   ]
  },
  {
   "cell_type": "markdown",
   "id": "fd4a350d",
   "metadata": {},
   "source": [
    "### Lecture 1. First steps in coding - Lab problems"
   ]
  },
  {
   "cell_type": "markdown",
   "id": "83aae1e5",
   "metadata": {},
   "source": [
    "#### 1. Hello, SoftUni"
   ]
  },
  {
   "cell_type": "markdown",
   "id": "81c9d1cc",
   "metadata": {},
   "source": [
    "Problem: **Напишете конзолна Python програма, която отпечатва текста \"Hello SoftUni\".**"
   ]
  },
  {
   "cell_type": "markdown",
   "id": "7f9351b0",
   "metadata": {},
   "source": [
    "**Solution:**"
   ]
  },
  {
   "cell_type": "code",
   "execution_count": 6,
   "id": "17df26c6",
   "metadata": {},
   "outputs": [
    {
     "name": "stdout",
     "output_type": "stream",
     "text": [
      "Hello SoftUni\n"
     ]
    }
   ],
   "source": [
    "print(\"Hello SoftUni\")"
   ]
  },
  {
   "cell_type": "markdown",
   "id": "97216485",
   "metadata": {},
   "source": [
    "Result: **100/100**"
   ]
  },
  {
   "cell_type": "markdown",
   "id": "3be4c5a3",
   "metadata": {},
   "source": [
    "#### 2. Numbers from 1 to 10"
   ]
  },
  {
   "cell_type": "markdown",
   "id": "8c0cecf0",
   "metadata": {},
   "source": [
    "Problem: **Напишете Python конзолна програма, която отпечатва числата от 1 до 10 на отделни редове на конзолата.**"
   ]
  },
  {
   "cell_type": "markdown",
   "id": "5aed0fb0",
   "metadata": {},
   "source": [
    "**Solution (dummy version):**"
   ]
  },
  {
   "cell_type": "code",
   "execution_count": 7,
   "id": "29014678",
   "metadata": {},
   "outputs": [
    {
     "name": "stdout",
     "output_type": "stream",
     "text": [
      "1\n",
      "2\n",
      "3\n",
      "4\n",
      "5\n",
      "6\n",
      "7\n",
      "8\n",
      "9\n",
      "10\n"
     ]
    }
   ],
   "source": [
    "print(1)\n",
    "print(2)\n",
    "print(3)\n",
    "print(4)\n",
    "print(5)\n",
    "print(6)\n",
    "print(7)\n",
    "print(8)\n",
    "print(9)\n",
    "print(10)"
   ]
  },
  {
   "cell_type": "markdown",
   "id": "cf49b15c",
   "metadata": {},
   "source": [
    "Result: **100/100**"
   ]
  },
  {
   "cell_type": "markdown",
   "id": "dd5c3827",
   "metadata": {},
   "source": [
    "**Solution (clever version):**"
   ]
  },
  {
   "cell_type": "code",
   "execution_count": 8,
   "id": "7d9a0823",
   "metadata": {},
   "outputs": [
    {
     "name": "stdout",
     "output_type": "stream",
     "text": [
      "1\n",
      "2\n",
      "3\n",
      "4\n",
      "5\n",
      "6\n",
      "7\n",
      "8\n",
      "9\n",
      "10\n"
     ]
    }
   ],
   "source": [
    "for i in range(1, 11):\n",
    "    print(i)"
   ]
  },
  {
   "cell_type": "markdown",
   "id": "920ad7be",
   "metadata": {},
   "source": [
    "Result: **100/100**"
   ]
  },
  {
   "cell_type": "markdown",
   "id": "f361428c",
   "metadata": {},
   "source": [
    "#### 3. Rectangle Area "
   ]
  },
  {
   "cell_type": "markdown",
   "id": "78158fbf",
   "metadata": {},
   "source": [
    "Problem: **Да се напише конзолна програма, която въвежда две цели числа (страните на правоъгълника a и b) и пресмята лицето на правоъгълник с тези страни.**"
   ]
  },
  {
   "cell_type": "markdown",
   "id": "86223dd0",
   "metadata": {},
   "source": [
    "Solution:"
   ]
  },
  {
   "cell_type": "code",
   "execution_count": 9,
   "id": "79566b7f",
   "metadata": {},
   "outputs": [
    {
     "name": "stdout",
     "output_type": "stream",
     "text": [
      "5\n",
      "5\n",
      "25\n"
     ]
    }
   ],
   "source": [
    "a = int(input())\n",
    "b = int(input())\n",
    "area = a * b\n",
    "print(area)"
   ]
  },
  {
   "cell_type": "markdown",
   "id": "98b25ce6",
   "metadata": {},
   "source": [
    "Result: **100/100**"
   ]
  },
  {
   "cell_type": "markdown",
   "id": "afe8b2de",
   "metadata": {},
   "source": [
    "#### 04. Inches to Centimeters "
   ]
  },
  {
   "cell_type": "markdown",
   "id": "b2393792",
   "metadata": {},
   "source": [
    "Problem: **Да се напише програма, която чете от конзолата реално число и го преобразува от инчове в сантиметри. За целта умножете инчовете по 2.54 (1 инч = 2.54 сантиметра).**"
   ]
  },
  {
   "cell_type": "markdown",
   "id": "c89ce6ac",
   "metadata": {},
   "source": [
    "Solution:"
   ]
  },
  {
   "cell_type": "code",
   "execution_count": 10,
   "id": "9859f75e",
   "metadata": {},
   "outputs": [
    {
     "name": "stdout",
     "output_type": "stream",
     "text": [
      "5\n",
      "12.7\n"
     ]
    }
   ],
   "source": [
    "inches = float(input())\n",
    "cm = inches * 2.54\n",
    "print(cm)"
   ]
  },
  {
   "cell_type": "markdown",
   "id": "8d40fdcc",
   "metadata": {},
   "source": [
    "Result: **100/100**"
   ]
  },
  {
   "cell_type": "markdown",
   "id": "c9cc5a81",
   "metadata": {},
   "source": [
    "#### 05. Greeting by Name"
   ]
  },
  {
   "cell_type": "markdown",
   "id": "5e9fd4b9",
   "metadata": {},
   "source": [
    "Problem: **Да се напише програма, която чете от конзолата текст (име на човек) и отпечатва \"Hello, \\<name>!\", където \\<name> е въведеното име от конзолата.**"
   ]
  },
  {
   "cell_type": "markdown",
   "id": "a8383927",
   "metadata": {},
   "source": [
    "Solution:"
   ]
  },
  {
   "cell_type": "code",
   "execution_count": 11,
   "id": "e0a3a06c",
   "metadata": {},
   "outputs": [
    {
     "name": "stdout",
     "output_type": "stream",
     "text": [
      "Pesho\n",
      "Hello, Pesho!\n"
     ]
    }
   ],
   "source": [
    "name = input()\n",
    "print(f\"Hello, {name}!\")"
   ]
  },
  {
   "cell_type": "markdown",
   "id": "3e45fbbd",
   "metadata": {},
   "source": [
    "Result: **100/100**"
   ]
  },
  {
   "cell_type": "markdown",
   "id": "5a2b365b",
   "metadata": {},
   "source": [
    "#### 06. Concatenate Data"
   ]
  },
  {
   "cell_type": "markdown",
   "id": "7180e513",
   "metadata": {},
   "source": [
    "Problem: **Напишете програма, която прочита от конзолата име, фамилия, възраст и град и печата следното съобщение: \"You are \\<firstName> \\<lastName>, a \\<age>-years old person from \\<town>.\"**"
   ]
  },
  {
   "cell_type": "markdown",
   "id": "d5939a8b",
   "metadata": {},
   "source": [
    "Solution:"
   ]
  },
  {
   "cell_type": "code",
   "execution_count": 14,
   "id": "4445e9b5",
   "metadata": {},
   "outputs": [
    {
     "name": "stdout",
     "output_type": "stream",
     "text": [
      "Pesho\n",
      "Ivanov\n",
      "41\n",
      "Varna\n",
      "You are Pesho Ivanov, a 41-years old person from Varna.\n"
     ]
    }
   ],
   "source": [
    "fName = input()\n",
    "lName = input()\n",
    "age = int(input())\n",
    "town = input()\n",
    "print(f\"You are {fName} {lName}, a {age}-years old person from {town}.\")"
   ]
  },
  {
   "cell_type": "markdown",
   "id": "b6de0e31",
   "metadata": {},
   "source": [
    "Result: **100/100**"
   ]
  },
  {
   "cell_type": "markdown",
   "id": "ecc7a8a8",
   "metadata": {},
   "source": [
    "####  07. Projects Creation"
   ]
  },
  {
   "cell_type": "markdown",
   "id": "1e3af764",
   "metadata": {},
   "source": [
    "Problem: **Напишете програма, която изчислява колко часа ще са необходими на един архитект, за да изготви проектите на няколко строителни обекта. Изготвянето на един проект отнема три часа.**\n",
    "  \n",
    "**Вход:**  \n",
    "От конзолата се четат 2 реда:\n",
    "1.\tИмето на архитекта - текст\n",
    "2.\tБрой на проектите, които трябва да изготви - цяло число в интервала [0 … 100]\n",
    "  \n",
    "**Изход:**  \n",
    "На конзолата се отпечатва:  \n",
    "\"The architect {името на архитекта} will need {необходими часове} hours to complete {брой на проектите} project/s.\""
   ]
  },
  {
   "cell_type": "markdown",
   "id": "78698423",
   "metadata": {},
   "source": [
    "Solution:"
   ]
  },
  {
   "cell_type": "code",
   "execution_count": 15,
   "id": "c6c16825",
   "metadata": {},
   "outputs": [
    {
     "name": "stdout",
     "output_type": "stream",
     "text": [
      "Pesho\n",
      "4\n",
      "The architect Pesho will need 12 hours to complete 4 project/s.\n"
     ]
    }
   ],
   "source": [
    "name = input()\n",
    "projects = int(input())\n",
    "hours = projects * 3\n",
    "print(f\"The architect {name} will need {hours} hours to complete {projects} project/s.\")"
   ]
  },
  {
   "cell_type": "markdown",
   "id": "685b1992",
   "metadata": {},
   "source": [
    "Result: **100/100**"
   ]
  },
  {
   "cell_type": "markdown",
   "id": "d7d1d04d",
   "metadata": {},
   "source": [
    "#### 08. Pet Shop"
   ]
  },
  {
   "cell_type": "markdown",
   "id": "4672be05",
   "metadata": {},
   "source": [
    "Problem: **Напишете програма, която пресмята нужните разходи за закупуването на храна за кучета и котки. Храната се пазарува от зоомагазин, като една опаковка храна за кучета е на цена 2.50 лв, а опаковка храна за котки струва 4 лв.**\n",
    "  \n",
    "**Вход:**\n",
    "От конзолата се четат 2 реда:\n",
    "1.\tБроят на опаковките храна за кучета – цяло число в интервала [0… 100]\n",
    "2.\tБроят на опаковките храна за котки –  цяло число в интервала [0… 100]\n",
    "  \n",
    "**Изход:**  \n",
    "На конзолата се отпечатва:  \n",
    "\"{крайната сума} lv.\""
   ]
  },
  {
   "cell_type": "markdown",
   "id": "bb8320b3",
   "metadata": {},
   "source": [
    "Solution:"
   ]
  },
  {
   "cell_type": "code",
   "execution_count": 24,
   "id": "5fe09d94",
   "metadata": {},
   "outputs": [
    {
     "name": "stdout",
     "output_type": "stream",
     "text": [
      "5\n",
      "5\n",
      "32.5 lv.\n"
     ]
    }
   ],
   "source": [
    "dogFood = int(input())\n",
    "catFood = int(input())\n",
    "dogFoodPrice = dogFood * 2.50\n",
    "catFoodPrice = catFood * 4\n",
    "totalExpenses = dogFoodPrice + catFoodPrice\n",
    "print(f\"{totalExpenses} lv.\")"
   ]
  },
  {
   "cell_type": "markdown",
   "id": "d6510b47",
   "metadata": {},
   "source": [
    "Result: **100/100**"
   ]
  },
  {
   "cell_type": "markdown",
   "id": "3a8d261b",
   "metadata": {},
   "source": [
    "#### 09. Yard Greening"
   ]
  },
  {
   "cell_type": "markdown",
   "id": "03a2448e",
   "metadata": {},
   "source": [
    "Problem: **Божидара разполага с няколко къщи на Черноморието и желае да озелени дворовете на някои от тях, като по този начин създаде уютна обстановка и комфорт на гостите си. За целта е наела фирма.\n",
    "Напишете програма, която изчислява необходимате сума, които Божидара ще трябва да заплати на фирмата изпълнител на проекта. Цената на един кв. м. е 7.61 лв със ДДС. Понеже нейният двор е доста голям, фирмата изпълнител предлага 18% отстъпка от крайната цена.**\n",
    "\n",
    "**Вход:**  \n",
    "От конзолата се прочита само един ред:  \n",
    "1.\tКв. метри, които ще бъдат озеленени – реално число в интервала [0.00 … 10000.00]\n",
    "\n",
    "**Изход:**  \n",
    "На конзолата се отпечатват два реда:  \n",
    "1. \"The final price is: {крайна цена на услугата} lv.\"  \n",
    "2. \"The discount is: {отстъпка} lv.\"\n"
   ]
  },
  {
   "cell_type": "markdown",
   "id": "611ca7f9",
   "metadata": {},
   "source": [
    "Solution:"
   ]
  },
  {
   "cell_type": "code",
   "execution_count": 21,
   "id": "0dec3ef9",
   "metadata": {},
   "outputs": [
    {
     "name": "stdout",
     "output_type": "stream",
     "text": [
      "550\n",
      "The final price is 3432.11 lv.\n",
      "The discount is 753.39 lv.\n"
     ]
    }
   ],
   "source": [
    "sqMeters = float(input())\n",
    "price = sqMeters * 7.61\n",
    "discount = price * 0.18\n",
    "finalPrice = price - discount\n",
    "print(f\"The final price is {finalPrice} lv.\")\n",
    "print(f\"The discount is {discount} lv.\")"
   ]
  },
  {
   "cell_type": "markdown",
   "id": "dae2ee18",
   "metadata": {},
   "source": [
    "Result: **100/100**"
   ]
  },
  {
   "cell_type": "markdown",
   "id": "b36cec5c",
   "metadata": {},
   "source": [
    "### Lecture 1. First steps in coding - Exercise problems"
   ]
  },
  {
   "cell_type": "markdown",
   "id": "f3748f64",
   "metadata": {},
   "source": [
    "#### 01. USD to BGN"
   ]
  },
  {
   "cell_type": "markdown",
   "id": "700df4bf",
   "metadata": {},
   "source": [
    "Problem: **Напишете програма за конвертиране на щатски долари (USD) в български лева (BGN). Използвайте фиксиран курс между долар и лев: 1 USD = 1.79549 BGN.**"
   ]
  },
  {
   "cell_type": "code",
   "execution_count": 22,
   "id": "4ae272cd",
   "metadata": {},
   "outputs": [
    {
     "name": "stdout",
     "output_type": "stream",
     "text": [
      "22\n",
      "39.50078\n"
     ]
    }
   ],
   "source": [
    "usd = float(input())\n",
    "bgn = usd * 1.79549\n",
    "print(bgn)"
   ]
  },
  {
   "cell_type": "markdown",
   "id": "d6f25004",
   "metadata": {},
   "source": [
    "Result: **100/100**"
   ]
  },
  {
   "cell_type": "markdown",
   "id": "0c8bff0b",
   "metadata": {},
   "source": [
    "#### 02. Radians to Degrees"
   ]
  },
  {
   "cell_type": "markdown",
   "id": "7ba3f6aa",
   "metadata": {},
   "source": [
    "Problem: **Напишете програма, която чете ъгъл в радиани (десетично число) и го преобразува в градуси. Използвайте формулата: градус = радиан * 180 / π. Числото π в Python може да достъпите чрез модула math. За да ползвате функционалността му, първо трябва да включите констатата pi.**"
   ]
  },
  {
   "cell_type": "markdown",
   "id": "5d788347",
   "metadata": {},
   "source": [
    "Solution:"
   ]
  },
  {
   "cell_type": "code",
   "execution_count": 25,
   "id": "f0b1a02a",
   "metadata": {},
   "outputs": [
    {
     "name": "stdout",
     "output_type": "stream",
     "text": [
      "3.1416\n",
      "180.0004209182994\n"
     ]
    }
   ],
   "source": [
    "import math;\n",
    "\n",
    "rad = float(input())\n",
    "grad = rad * 180 / math.pi\n",
    "print(grad)"
   ]
  },
  {
   "cell_type": "markdown",
   "id": "fcd1036f",
   "metadata": {},
   "source": [
    "Result: **100/100**"
   ]
  },
  {
   "cell_type": "markdown",
   "id": "78fc5817",
   "metadata": {},
   "source": [
    "#### 03. Deposit Calculator"
   ]
  },
  {
   "cell_type": "markdown",
   "id": "69bd0f43",
   "metadata": {},
   "source": [
    "Problem: **Напишете програма, която изчислява каква сума ще получите в края на депозитния период при определен лихвен процент. Използвайте следната формула: \n",
    "сума = депозирана сума  + срок на депозита * ((депозирана сума * годишен лихвен процент ) / 12)**  \n",
    "  \n",
    "**Вход:**  \n",
    "От конзолата се четат 3 реда:  \n",
    "1.\tДепозирана сума – реално число в интервала [100.00 … 10000.00]\n",
    "2.\tСрок на депозита (в месеци) – цяло число в интервала [1…12]\n",
    "3.\tГодишен лихвен процент – реално число в интервала [0.00 …100.00]  \n",
    "  \n",
    "**Изход:**  \n",
    "Да се отпечата на конзолата сумата в края на срока."
   ]
  },
  {
   "cell_type": "markdown",
   "id": "9a9b5f52",
   "metadata": {},
   "source": [
    "Solution:"
   ]
  },
  {
   "cell_type": "code",
   "execution_count": 31,
   "id": "7e33a77d",
   "metadata": {},
   "outputs": [
    {
     "name": "stdout",
     "output_type": "stream",
     "text": [
      "200\n",
      "3\n",
      "5.7\n",
      "202.85\n"
     ]
    }
   ],
   "source": [
    "depositSum = float(input())\n",
    "depositDuration = int(input())\n",
    "depositInterest = float(input())/100\n",
    "depositProfit = depositSum + (depositDuration * ((depositSum*depositInterest)/12))\n",
    "print(profit)"
   ]
  },
  {
   "cell_type": "markdown",
   "id": "d3292614",
   "metadata": {},
   "source": [
    "Result: **100/100**"
   ]
  },
  {
   "cell_type": "markdown",
   "id": "5f8f3141",
   "metadata": {},
   "source": [
    "#### 04. Vacation books list "
   ]
  },
  {
   "cell_type": "markdown",
   "id": "ae579d84",
   "metadata": {},
   "source": [
    "Problem: **За лятната ваканция в списъка със задължителна литература на Жоро има определен брой книги. Понеже Жоро предпочита да играе с приятели навън, вашата задача е да му помогнете да изчисли колко часа на ден трябва да отделя, за да прочете необходимата литература.**  \n",
    "\n",
    "**Вход:**  \n",
    "От конзолата се четат 3 реда:\n",
    "1.\tБрой страници в текущата книга – цяло число в интервала [1…1000]\n",
    "2.\tСтраници, които прочита за 1 час – цяло число в интервала [1…1000]\n",
    "3.\tБроят на дните, за които трябва да прочете книгата – цяло число в интервала [1…1000]  \n",
    "\n",
    "**Изход:**  \n",
    "Да се отпечата на конзолата броят часове, които Жоро трябва да отделя за четене всеки ден."
   ]
  },
  {
   "cell_type": "markdown",
   "id": "8bbbf629",
   "metadata": {},
   "source": [
    "**Solution:**"
   ]
  },
  {
   "cell_type": "code",
   "execution_count": 36,
   "id": "e4d16103",
   "metadata": {},
   "outputs": [
    {
     "name": "stdout",
     "output_type": "stream",
     "text": [
      "212\n",
      "20\n",
      "2\n",
      "5\n"
     ]
    }
   ],
   "source": [
    "pagesInCurrBook = int(input())\n",
    "pagesPerHour = int(input())\n",
    "daysPerBook = int(input())\n",
    "hoursPerDay = int(pagesInCurrBook//pagesPerHour/daysPerBook)\n",
    "print(hoursPerDay)"
   ]
  },
  {
   "cell_type": "markdown",
   "id": "8db07eb8",
   "metadata": {},
   "source": [
    "Result: **100/100**"
   ]
  },
  {
   "cell_type": "markdown",
   "id": "784d0a83",
   "metadata": {},
   "source": [
    "#### 05. Supplies for School"
   ]
  },
  {
   "cell_type": "markdown",
   "id": "b2461a38",
   "metadata": {},
   "source": [
    "Problem: **Учебната година вече е започнала и отговорничката на 10Б клас - Ани трябва да купи определен брой пакетчета с химикали, пакетчета с маркери, както и препарат за почистване на дъска. Тя е редовна клиентка на една книжарница, затова има намаление за нея, което представлява някакъв процент от общата сума. Напишете програма, която изчислява колко пари ще трябва да събере Ани, за да плати сметката, като имате предвид следния ценоразпис:**\n",
    "- **Пакет химикали - 5.80 лв.**\n",
    "- **Пакет маркери - 7.20 лв.**\n",
    "- **Препарат - 1.20 лв (за литър)**  \n",
    "\n",
    "**Вход:**  \n",
    "От конзолата се четат 4 числа:\n",
    "- Брой пакети химикали - цяло число в интервала [0...100]\n",
    "- Брой пакети маркери - цяло число в интервала [0...100]\n",
    "- Литри препарат за почистване на дъска - цяло число в интервала [0…50]\n",
    "- Процент намаление - цяло число в интервала [0...100]  \n",
    "  \n",
    "**Изход:**  \n",
    "Да се отпечата на конзолата колко пари ще са нужни на Ани, за да си плати сметката."
   ]
  },
  {
   "cell_type": "markdown",
   "id": "385ff06e",
   "metadata": {},
   "source": [
    "**Solution:**"
   ]
  },
  {
   "cell_type": "code",
   "execution_count": 39,
   "id": "7ebf225e",
   "metadata": {},
   "outputs": [
    {
     "name": "stdout",
     "output_type": "stream",
     "text": [
      "2\n",
      "3\n",
      "4\n",
      "25\n",
      "28.5\n"
     ]
    }
   ],
   "source": [
    "pensNumber = int(input())\n",
    "markersNumber = int(input())\n",
    "cleanerLitres = int(input())\n",
    "discount = int(input()) / 100\n",
    "totalSum = pensNumber * 5.8 + markersNumber * 7.20 + cleanerLitres * 1.2\n",
    "finalSum = totalSum - (totalSum * discount)\n",
    "print(finalSum)"
   ]
  },
  {
   "cell_type": "markdown",
   "id": "7c5de16e",
   "metadata": {},
   "source": [
    "Result: **100/100**"
   ]
  },
  {
   "cell_type": "markdown",
   "id": "26be5545",
   "metadata": {},
   "source": [
    "#### 06. Repainting"
   ]
  },
  {
   "cell_type": "markdown",
   "id": "4ad75b07",
   "metadata": {},
   "source": [
    "Problem: **Румен иска да пребоядиса хола и за целта е наел майстори. Напишете програма, която изчислява разходите за ремонта, предвид следните цени:**\n",
    "- **Предпазен найлон - 1.50 лв. за кв. метър**\n",
    "- **Боя - 14.50 лв. за литър**\n",
    "- **Разредител за боя - 5.00 лв. за литър**  \n",
    "\n",
    "**За всеки случай, към необходимите материали, Румен иска да добави още 10% от количеството боя и 2 кв.м. найлон, разбира се и 0.40 лв. за торбички. Сумата, която се заплаща на майсторите за 1 час работа, е равна на 30% от сбора на всички разходи за материали.**  \n",
    "  \n",
    "**Вход:**  \n",
    "Входът се чете от конзолата и съдържа точно 4 реда:\n",
    "1.\tНеобходимо количество найлон (в кв.м.) - цяло число в интервала [1... 100]\n",
    "2.\tНеобходимо количество боя (в литри) - цяло число в интервала [1…100]\n",
    "3.\tКоличество разредител (в литри) - цяло число в интервала [1…30]\n",
    "4.\tЧасовете, за които майсторите ще свършат работата - цяло число в интервала [1…9]\n",
    "\n",
    "**Изход:**  \n",
    "Да се отпечата на конзолата един ред:\n",
    "- \"{сумата на всички разходи}\"\n"
   ]
  },
  {
   "cell_type": "markdown",
   "id": "6b171bb2",
   "metadata": {},
   "source": [
    "Solution:"
   ]
  },
  {
   "cell_type": "code",
   "execution_count": 43,
   "id": "625d6031",
   "metadata": {},
   "outputs": [
    {
     "name": "stdout",
     "output_type": "stream",
     "text": [
      "10\n",
      "11\n",
      "4\n",
      "8\n",
      "727.09\n"
     ]
    }
   ],
   "source": [
    "plastic = int(input())\n",
    "paint = int(input())\n",
    "solvent = int(input())\n",
    "hours = int(input())\n",
    "plasticCost = (plastic + 2) * 1.5\n",
    "paintCost = (paint * 1.1) * 14.5\n",
    "solventCost = solvent * 5\n",
    "totalCost = plasticCost + paintCost + solventCost + 0.4\n",
    "hourCost = 0.3 * totalCost * hours\n",
    "print(totalCost + hourCost)"
   ]
  },
  {
   "cell_type": "markdown",
   "id": "c262921e",
   "metadata": {},
   "source": [
    "Results: **100/100**"
   ]
  },
  {
   "cell_type": "markdown",
   "id": "418d72d8",
   "metadata": {},
   "source": [
    "#### 07. Food Delivery"
   ]
  },
  {
   "cell_type": "markdown",
   "id": "b5854271",
   "metadata": {},
   "source": [
    "Problem: **Ресторант отваря врати и предлага няколко менюта на преференциални цени:**\n",
    "- **Пилешко меню –  10.35 лв.**\n",
    "- **Меню с риба – 12.40 лв.**\n",
    "- **Вегетарианско меню  – 8.15 лв.**  \n",
    "\n",
    "**Напишете програма, която изчислява колко ще струва на група хора да си поръчат храна за вкъщи.\n",
    "Групата ще си поръча и десерт, чиято цена е равна на 20% от общата сметка (без доставката). \n",
    "Цената на доставка е 2.50 лв и се начислява най-накрая.**  \n",
    "\n",
    "**Вход:**  \n",
    "От конзолата се четат 3 реда:  \n",
    "- Брой пилешки менюта – цяло число в интервала [0 … 99]\n",
    "- Брой менюта с риба – цяло число в интервала [0 … 99]\n",
    "- Брой вегетариански менюта – цяло число в интервала [0 … 99]  \n",
    "\n",
    "**Изход:**  \n",
    "Да се отпечата на конзолата един ред:  \"{цена на поръчката}\""
   ]
  },
  {
   "cell_type": "markdown",
   "id": "27730495",
   "metadata": {},
   "source": [
    "Solution:"
   ]
  },
  {
   "cell_type": "code",
   "execution_count": 44,
   "id": "dc92309f",
   "metadata": {},
   "outputs": [
    {
     "name": "stdout",
     "output_type": "stream",
     "text": [
      "2\n",
      "4\n",
      "3\n",
      "116.2\n"
     ]
    }
   ],
   "source": [
    "chickenMenu = int(input())\n",
    "fishMenu = int(input())\n",
    "veganMenu = int(input())\n",
    "\n",
    "chickenCost = chickenMenu * 10.35\n",
    "fishCost = fishMenu * 12.40\n",
    "veganCost = veganMenu * 8.15\n",
    "\n",
    "menuCost = chickenCost + fishCost + veganCost\n",
    "desertCost = menuCost * 0.2\n",
    "deliveryCost = 2.5\n",
    "\n",
    "totalCost = menuCost + desertCost + deliveryCost\n",
    "print(totalCost)"
   ]
  },
  {
   "cell_type": "markdown",
   "id": "0edfaff0",
   "metadata": {},
   "source": [
    "Result: **100/100**"
   ]
  },
  {
   "cell_type": "markdown",
   "id": "9e2a0da1",
   "metadata": {},
   "source": [
    "#### 08. Basketball Equipment"
   ]
  },
  {
   "cell_type": "markdown",
   "id": "419ed7a0",
   "metadata": {},
   "source": [
    "Problem: **Джеси решава, че иска да се занимава с баскетбол, но за да тренира е нужна екипировка. Напишете програма, която изчислява какви разходи ще има Джеси, ако започне да тренира, като знаете колко е таксата за тренировки по баскетбол за период от 1 година. Нужна екипировка:**  \n",
    "\n",
    "- **Баскетболни кецове – цената им е 40% по-малка от таксата за една година**\n",
    "- **Баскетболен екип – цената му е 20% по-евтина от тази на кецовете**\n",
    "- **Баскетболна топка – цената ѝ е 1 / 4 от цената на баскетболния екип**\n",
    "- **Баскетболни аксесоари – цената им е 1 / 5 от цената на баскетболната топка**\n",
    "  \n",
    "**Вход:**  \n",
    "От конзолата се четe 1 ред:  \n",
    "- Годишната такса за тренировки по баскетбол – цяло число в интервала [0… 9999]  \n",
    "\n",
    "**Изход:**\n",
    "- Да се отпечата на конзолата колко ще са разходите на Джеси, ако започне да спортува баскетбол.\n"
   ]
  },
  {
   "cell_type": "markdown",
   "id": "da00c901",
   "metadata": {},
   "source": [
    "Solution:"
   ]
  },
  {
   "cell_type": "code",
   "execution_count": 45,
   "id": "b90725d0",
   "metadata": {},
   "outputs": [
    {
     "name": "stdout",
     "output_type": "stream",
     "text": [
      "365\n",
      "811.76\n"
     ]
    }
   ],
   "source": [
    "yearCost = int(input())\n",
    "shoesCost = 0.6 * yearCost\n",
    "clothesCost = shoesCost * 0.8\n",
    "ballCost = clothesCost * 0.25\n",
    "accessoriesCost = ballCost * 0.2\n",
    "\n",
    "totalCost = yearCost + shoesCost + clothesCost + ballCost + accessoriesCost\n",
    "print(totalCost)"
   ]
  },
  {
   "cell_type": "markdown",
   "id": "cfabc842",
   "metadata": {},
   "source": [
    "Result: **100/100**"
   ]
  },
  {
   "cell_type": "markdown",
   "id": "06d50260",
   "metadata": {},
   "source": [
    "#### 09. Fish Tank"
   ]
  },
  {
   "cell_type": "markdown",
   "id": "9c8b2f00",
   "metadata": {},
   "source": [
    "Problem: **За рождения си ден Любомир получил аквариум с формата на паралелепипед. Първоначално прочитаме от конзолата на отделни редове размерите му – дължина, широчина и височина в сантиметри. Трябва да се пресметне колко литра вода ще събира аквариума, ако се знае, че определен процент от вместимостта му е заета от пясък, растения, нагревател и помпа. \n",
    "Един литър вода се равнява на един кубичен дециметър /1 л = 1 дм<sup>3</sup>/.  \n",
    "Да се напише програма, която изчислява литрите вода, която са необходими за напълването на аквариума.**  \n",
    "  \n",
    "  \n",
    "**Вход:**  \n",
    "От конзолата се четат 4 реда:\n",
    "1.\tДължина в см – цяло число в интервала [10 … 500]\n",
    "2.\tШирочина в см – цяло число в интервала [10 … 300]\n",
    "3.\tВисочина в см – цяло число в интервала [10… 200]\n",
    "4.\tПроцент  – реално число в интервала [0.000 … 100.000]\n",
    "  \n",
    "**Изход:**  \n",
    "Да се отпечата на конзолата едно число:\n",
    "- литрите вода, които ще  събира аквариума."
   ]
  },
  {
   "cell_type": "markdown",
   "id": "df84bde0",
   "metadata": {},
   "source": [
    "Solution: "
   ]
  },
  {
   "cell_type": "code",
   "execution_count": 48,
   "id": "4518e587",
   "metadata": {},
   "outputs": [
    {
     "name": "stdout",
     "output_type": "stream",
     "text": [
      "85\n",
      "75\n",
      "47\n",
      "17\n",
      "248.68875\n"
     ]
    }
   ],
   "source": [
    "length = int(input()) / 10\n",
    "width = int(input()) / 10\n",
    "height = int(input()) / 10\n",
    "procent = float(input()) / 100\n",
    "\n",
    "fishTankVolume = length * width * height\n",
    "waterVolume = fishTankVolume - (fishTankVolume * procent)\n",
    "print(waterVolume)"
   ]
  },
  {
   "cell_type": "markdown",
   "id": "9d696cf6",
   "metadata": {},
   "source": [
    "Result: **100/100**"
   ]
  }
 ],
 "metadata": {
  "kernelspec": {
   "display_name": "Python 3 (ipykernel)",
   "language": "python",
   "name": "python3"
  },
  "language_info": {
   "codemirror_mode": {
    "name": "ipython",
    "version": 3
   },
   "file_extension": ".py",
   "mimetype": "text/x-python",
   "name": "python",
   "nbconvert_exporter": "python",
   "pygments_lexer": "ipython3",
   "version": "3.9.7"
  }
 },
 "nbformat": 4,
 "nbformat_minor": 5
}
