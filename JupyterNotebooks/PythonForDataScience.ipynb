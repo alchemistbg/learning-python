{
 "cells": [
  {
   "cell_type": "markdown",
   "id": "d738885d",
   "metadata": {},
   "source": [
    "# Python for Data Science - Course for Beginners"
   ]
  },
  {
   "cell_type": "markdown",
   "id": "e94488c2",
   "metadata": {},
   "source": [
    "## Learn Python (Pandas,NumPy,Matplotlib ...)"
   ]
  },
  {
   "cell_type": "markdown",
   "id": "a9f5a3c9",
   "metadata": {},
   "source": [
    "This is a code from this [freecodecamp.org tutorial](https://www.youtube.com/watch?v=LHBE6Q9XlzI)."
   ]
  },
  {
   "cell_type": "markdown",
   "id": "871c0bb9",
   "metadata": {},
   "source": [
    "### Hello, World!"
   ]
  },
  {
   "cell_type": "code",
   "execution_count": 1,
   "id": "f02294e9",
   "metadata": {},
   "outputs": [
    {
     "name": "stdout",
     "output_type": "stream",
     "text": [
      "Hello, World!\n"
     ]
    }
   ],
   "source": [
    "print(\"Hello, World!\")"
   ]
  },
  {
   "cell_type": "markdown",
   "id": "683f5496",
   "metadata": {},
   "source": [
    "### Variables"
   ]
  },
  {
   "cell_type": "code",
   "execution_count": 2,
   "id": "952339d2",
   "metadata": {},
   "outputs": [],
   "source": [
    "x = 2\n",
    "y = 5\n",
    "xy = 7.2"
   ]
  },
  {
   "cell_type": "code",
   "execution_count": 3,
   "id": "35867da9",
   "metadata": {},
   "outputs": [
    {
     "name": "stdout",
     "output_type": "stream",
     "text": [
      "<class 'int'>\n",
      "<class 'int'>\n",
      "<class 'float'>\n"
     ]
    }
   ],
   "source": [
    "print(type(x))\n",
    "print(type(y))\n",
    "print(type(xy))"
   ]
  },
  {
   "cell_type": "code",
   "execution_count": 4,
   "id": "b6da099b",
   "metadata": {},
   "outputs": [],
   "source": [
    "a, b = 4, 5.0"
   ]
  },
  {
   "cell_type": "code",
   "execution_count": 5,
   "id": "084507fc",
   "metadata": {},
   "outputs": [
    {
     "name": "stdout",
     "output_type": "stream",
     "text": [
      "<class 'int'>\n",
      "<class 'float'>\n"
     ]
    }
   ],
   "source": [
    "print(type(a))\n",
    "print(type(b))"
   ]
  },
  {
   "cell_type": "code",
   "execution_count": 6,
   "id": "2b3e0411",
   "metadata": {},
   "outputs": [
    {
     "name": "stdout",
     "output_type": "stream",
     "text": [
      "Variable   Type     Data/Info\n",
      "-----------------------------\n",
      "a          int      4\n",
      "b          float    5.0\n",
      "x          int      2\n",
      "xy         float    7.2\n",
      "y          int      5\n"
     ]
    }
   ],
   "source": [
    "%whos"
   ]
  },
  {
   "cell_type": "code",
   "execution_count": 7,
   "id": "e490f835",
   "metadata": {},
   "outputs": [],
   "source": [
    "del xy"
   ]
  },
  {
   "cell_type": "code",
   "execution_count": 8,
   "id": "45f0bf3c",
   "metadata": {},
   "outputs": [
    {
     "name": "stdout",
     "output_type": "stream",
     "text": [
      "Variable   Type     Data/Info\n",
      "-----------------------------\n",
      "a          int      4\n",
      "b          float    5.0\n",
      "x          int      2\n",
      "y          int      5\n"
     ]
    }
   ],
   "source": [
    "%whos"
   ]
  },
  {
   "cell_type": "markdown",
   "id": "728f7b7d",
   "metadata": {},
   "source": [
    "### Basic operators"
   ]
  },
  {
   "cell_type": "code",
   "execution_count": 9,
   "id": "c5eaa697",
   "metadata": {},
   "outputs": [
    {
     "name": "stdout",
     "output_type": "stream",
     "text": [
      "Variable   Type     Data/Info\n",
      "-----------------------------\n",
      "a          int      4\n",
      "b          float    5.0\n",
      "x          int      2\n",
      "y          int      5\n"
     ]
    }
   ],
   "source": [
    "%whos"
   ]
  },
  {
   "cell_type": "code",
   "execution_count": 10,
   "id": "2007faa5",
   "metadata": {},
   "outputs": [],
   "source": [
    "ab = a + b"
   ]
  },
  {
   "cell_type": "code",
   "execution_count": 11,
   "id": "a805019a",
   "metadata": {},
   "outputs": [
    {
     "name": "stdout",
     "output_type": "stream",
     "text": [
      "<class 'float'>\n"
     ]
    }
   ],
   "source": [
    "print(type(ab))"
   ]
  },
  {
   "cell_type": "code",
   "execution_count": 12,
   "id": "98d16728",
   "metadata": {},
   "outputs": [],
   "source": [
    "xDy = x/y"
   ]
  },
  {
   "cell_type": "code",
   "execution_count": 13,
   "id": "22d0cec7",
   "metadata": {},
   "outputs": [
    {
     "name": "stdout",
     "output_type": "stream",
     "text": [
      "0.4\n",
      "<class 'float'>\n"
     ]
    }
   ],
   "source": [
    "print(xDy)\n",
    "print(type(xDy))"
   ]
  },
  {
   "cell_type": "code",
   "execution_count": 14,
   "id": "ae984b8b",
   "metadata": {},
   "outputs": [],
   "source": [
    "xMy = x % y"
   ]
  },
  {
   "cell_type": "code",
   "execution_count": 15,
   "id": "19f71d8b",
   "metadata": {},
   "outputs": [
    {
     "name": "stdout",
     "output_type": "stream",
     "text": [
      "2\n",
      "<class 'int'>\n"
     ]
    }
   ],
   "source": [
    "print(xMy)\n",
    "print(type(xMy))"
   ]
  },
  {
   "cell_type": "code",
   "execution_count": 16,
   "id": "5ad1d687",
   "metadata": {},
   "outputs": [],
   "source": [
    "xCy = x // y"
   ]
  },
  {
   "cell_type": "code",
   "execution_count": 17,
   "id": "32aaccec",
   "metadata": {},
   "outputs": [
    {
     "name": "stdout",
     "output_type": "stream",
     "text": [
      "0\n",
      "<class 'int'>\n"
     ]
    }
   ],
   "source": [
    "print(xCy)\n",
    "print(type(xCy))"
   ]
  },
  {
   "cell_type": "markdown",
   "id": "39866df8",
   "metadata": {},
   "source": [
    "### More on operators"
   ]
  },
  {
   "cell_type": "code",
   "execution_count": 18,
   "id": "32237cb6",
   "metadata": {},
   "outputs": [
    {
     "name": "stdout",
     "output_type": "stream",
     "text": [
      "Variable   Type     Data/Info\n",
      "-----------------------------\n",
      "a          int      4\n",
      "ab         float    9.0\n",
      "b          float    5.0\n",
      "x          int      2\n",
      "xCy        int      0\n",
      "xDy        float    0.4\n",
      "xMy        int      2\n",
      "y          int      5\n"
     ]
    }
   ],
   "source": [
    "%whos"
   ]
  },
  {
   "cell_type": "code",
   "execution_count": 19,
   "id": "ded66d9c",
   "metadata": {},
   "outputs": [],
   "source": [
    "c = a * b"
   ]
  },
  {
   "cell_type": "code",
   "execution_count": 20,
   "id": "f3d5a2b3",
   "metadata": {},
   "outputs": [
    {
     "name": "stdout",
     "output_type": "stream",
     "text": [
      "20.0\n"
     ]
    }
   ],
   "source": [
    "print(c)"
   ]
  },
  {
   "cell_type": "markdown",
   "id": "f9abf2e0",
   "metadata": {},
   "source": [
    "### Boolean"
   ]
  },
  {
   "cell_type": "code",
   "execution_count": 1,
   "id": "dbb6c6da",
   "metadata": {},
   "outputs": [
    {
     "name": "stdout",
     "output_type": "stream",
     "text": [
      "True\n"
     ]
    }
   ],
   "source": [
    "print(True and True)"
   ]
  },
  {
   "cell_type": "code",
   "execution_count": 6,
   "id": "dda08a8b",
   "metadata": {},
   "outputs": [
    {
     "name": "stdout",
     "output_type": "stream",
     "text": [
      "True\n"
     ]
    }
   ],
   "source": [
    "print(5==5.0)"
   ]
  },
  {
   "cell_type": "code",
   "execution_count": null,
   "id": "48fa61d7",
   "metadata": {},
   "outputs": [],
   "source": []
  },
  {
   "cell_type": "markdown",
   "id": "3e4eff40",
   "metadata": {},
   "source": [
    "### Functions"
   ]
  },
  {
   "cell_type": "code",
   "execution_count": 2,
   "id": "43095fb4",
   "metadata": {},
   "outputs": [
    {
     "data": {
      "text/plain": [
       "4"
      ]
     },
     "execution_count": 2,
     "metadata": {},
     "output_type": "execute_result"
    }
   ],
   "source": [
    "round(4.345)"
   ]
  },
  {
   "cell_type": "code",
   "execution_count": 3,
   "id": "6cf77658",
   "metadata": {},
   "outputs": [
    {
     "data": {
      "text/plain": [
       "4.34"
      ]
     },
     "execution_count": 3,
     "metadata": {},
     "output_type": "execute_result"
    }
   ],
   "source": [
    "round(4.345, 2)"
   ]
  },
  {
   "cell_type": "code",
   "execution_count": 7,
   "id": "046b05b6",
   "metadata": {},
   "outputs": [],
   "source": [
    "divMod = divmod(27,5)"
   ]
  },
  {
   "cell_type": "code",
   "execution_count": 9,
   "id": "577fd12d",
   "metadata": {},
   "outputs": [
    {
     "name": "stdout",
     "output_type": "stream",
     "text": [
      "(5, 2)\n",
      "<class 'tuple'>\n"
     ]
    }
   ],
   "source": [
    "print(divMod)\n",
    "print(type(divMod))"
   ]
  },
  {
   "cell_type": "code",
   "execution_count": 10,
   "id": "c407b3c6",
   "metadata": {},
   "outputs": [
    {
     "name": "stdout",
     "output_type": "stream",
     "text": [
      "5\n"
     ]
    }
   ],
   "source": [
    "print(divMod[0])"
   ]
  },
  {
   "cell_type": "code",
   "execution_count": 11,
   "id": "de3bbc3b",
   "metadata": {},
   "outputs": [
    {
     "name": "stdout",
     "output_type": "stream",
     "text": [
      "2\n"
     ]
    }
   ],
   "source": [
    "print(divMod[1])"
   ]
  },
  {
   "cell_type": "code",
   "execution_count": 16,
   "id": "69b15a35",
   "metadata": {},
   "outputs": [
    {
     "data": {
      "text/plain": [
       "True"
      ]
     },
     "execution_count": 16,
     "metadata": {},
     "output_type": "execute_result"
    }
   ],
   "source": [
    "isinstance(divMod, (tuple, int))"
   ]
  },
  {
   "cell_type": "code",
   "execution_count": 1,
   "id": "e418c397",
   "metadata": {},
   "outputs": [
    {
     "name": "stdout",
     "output_type": "stream",
     "text": [
      "Enter somethingGancho\n"
     ]
    }
   ],
   "source": [
    "inp = input(\"Enter something\")"
   ]
  },
  {
   "cell_type": "code",
   "execution_count": 2,
   "id": "e17b8583",
   "metadata": {},
   "outputs": [
    {
     "name": "stdout",
     "output_type": "stream",
     "text": [
      "Gancho\n"
     ]
    }
   ],
   "source": [
    "print(inp)"
   ]
  },
  {
   "cell_type": "code",
   "execution_count": 3,
   "id": "4ee51fb1",
   "metadata": {},
   "outputs": [
    {
     "ename": "NameError",
     "evalue": "name 'typeof' is not defined",
     "output_type": "error",
     "traceback": [
      "\u001b[1;31m---------------------------------------------------------------------------\u001b[0m",
      "\u001b[1;31mNameError\u001b[0m                                 Traceback (most recent call last)",
      "\u001b[1;32m~\\AppData\\Local\\Temp/ipykernel_18276/118040917.py\u001b[0m in \u001b[0;36m<module>\u001b[1;34m\u001b[0m\n\u001b[1;32m----> 1\u001b[1;33m \u001b[0mprint\u001b[0m\u001b[1;33m(\u001b[0m\u001b[0mtypeof\u001b[0m\u001b[1;33m(\u001b[0m\u001b[0minp\u001b[0m\u001b[1;33m)\u001b[0m\u001b[1;33m)\u001b[0m\u001b[1;33m\u001b[0m\u001b[1;33m\u001b[0m\u001b[0m\n\u001b[0m",
      "\u001b[1;31mNameError\u001b[0m: name 'typeof' is not defined"
     ]
    }
   ],
   "source": [
    "print(typeof(inp))"
   ]
  },
  {
   "cell_type": "code",
   "execution_count": 4,
   "id": "51ed3a50",
   "metadata": {},
   "outputs": [
    {
     "name": "stdout",
     "output_type": "stream",
     "text": [
      "inp = input(\"Enter something\")\n",
      "print(inp)\n",
      "print(typeof(inp))\n",
      "%history\n"
     ]
    }
   ],
   "source": [
    "%history"
   ]
  },
  {
   "cell_type": "code",
   "execution_count": 5,
   "id": "95dd8854",
   "metadata": {},
   "outputs": [
    {
     "name": "stdout",
     "output_type": "stream",
     "text": [
      "<class 'str'>\n"
     ]
    }
   ],
   "source": [
    "print(type(inp))"
   ]
  },
  {
   "cell_type": "code",
   "execution_count": 6,
   "id": "2caee646",
   "metadata": {},
   "outputs": [
    {
     "name": "stdout",
     "output_type": "stream",
     "text": [
      "Enter a number: 5\n"
     ]
    }
   ],
   "source": [
    "inp = input(\"Enter a number: \")"
   ]
  },
  {
   "cell_type": "code",
   "execution_count": 7,
   "id": "85022195",
   "metadata": {},
   "outputs": [
    {
     "data": {
      "text/plain": [
       "'You have entered: 5 number'"
      ]
     },
     "execution_count": 7,
     "metadata": {},
     "output_type": "execute_result"
    }
   ],
   "source": [
    "f\"You have entered: {inp} number\""
   ]
  },
  {
   "cell_type": "code",
   "execution_count": 8,
   "id": "57932e8a",
   "metadata": {},
   "outputs": [
    {
     "data": {
      "text/plain": [
       "'You have entered: 5. Is it a number: False'"
      ]
     },
     "execution_count": 8,
     "metadata": {},
     "output_type": "execute_result"
    }
   ],
   "source": [
    "f\"You have entered: {inp}. Is it a number: {isinstance(inp, int)}\""
   ]
  },
  {
   "cell_type": "code",
   "execution_count": 9,
   "id": "b3db765c",
   "metadata": {},
   "outputs": [
    {
     "name": "stdout",
     "output_type": "stream",
     "text": [
      "Enter a number: 5\n"
     ]
    }
   ],
   "source": [
    "inp = int(input(\"Enter a number: \"))"
   ]
  },
  {
   "cell_type": "code",
   "execution_count": 10,
   "id": "87e8a826",
   "metadata": {},
   "outputs": [
    {
     "data": {
      "text/plain": [
       "'You have entered: 5. Is it a number: True'"
      ]
     },
     "execution_count": 10,
     "metadata": {},
     "output_type": "execute_result"
    }
   ],
   "source": [
    "f\"You have entered: {inp}. Is it a number: {isinstance(inp, int)}\""
   ]
  },
  {
   "cell_type": "code",
   "execution_count": null,
   "id": "abcb8ceb",
   "metadata": {},
   "outputs": [],
   "source": []
  }
 ],
 "metadata": {
  "kernelspec": {
   "display_name": "Python 3 (ipykernel)",
   "language": "python",
   "name": "python3"
  },
  "language_info": {
   "codemirror_mode": {
    "name": "ipython",
    "version": 3
   },
   "file_extension": ".py",
   "mimetype": "text/x-python",
   "name": "python",
   "nbconvert_exporter": "python",
   "pygments_lexer": "ipython3",
   "version": "3.9.7"
  }
 },
 "nbformat": 4,
 "nbformat_minor": 5
}
